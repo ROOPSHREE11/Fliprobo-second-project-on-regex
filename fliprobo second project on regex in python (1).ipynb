{
 "cells": [
  {
   "cell_type": "markdown",
   "id": "5c888ee8",
   "metadata": {},
   "source": [
    "# 1.python programme to replace all occurrence of a space,comma,or dot with a colon"
   ]
  },
  {
   "cell_type": "code",
   "execution_count": 6,
   "id": "dd906218",
   "metadata": {},
   "outputs": [
    {
     "name": "stdout",
     "output_type": "stream",
     "text": [
      "expected output: Python:Exercises:PHP:exercises:\n"
     ]
    }
   ],
   "source": [
    "sample_text='Python Exercises,PHP exercises.'\n",
    "chars_to_replace=[' ','.',',']\n",
    "def replace_chars_with_colon(text):\n",
    "\n",
    "    for char in chars_to_replace:\n",
    "        text=text.replace(char,':')\n",
    "    return text\n",
    "\n",
    "result=replace_chars_with_colon(sample_text)\n",
    "\n",
    "print('expected output:',result)"
   ]
  },
  {
   "cell_type": "markdown",
   "id": "87e9d0a4",
   "metadata": {},
   "source": [
    "# 2"
   ]
  },
  {
   "cell_type": "code",
   "execution_count": 19,
   "id": "b456111f",
   "metadata": {
    "scrolled": true
   },
   "outputs": [
    {
     "name": "stdout",
     "output_type": "stream",
     "text": [
      "            SUMMARY\n",
      "0        helloworld\n",
      "1              test\n",
      "2  123four five six\n"
     ]
    }
   ],
   "source": [
    "import pandas as pd\n",
    "import re\n",
    "\n",
    "Data={'SUMMARY':['hello,world!','**** test','123four, five, six...']}\n",
    "df=pd.DataFrame(Data)\n",
    "\n",
    "def cleaned_Data(Data):\n",
    "    cleaned_Data=re.sub(r'[^\\w\\s]','',Data)\n",
    "    return cleaned_Data\n",
    "\n",
    "df ['SUMMARY']=df['SUMMARY'].apply(cleaned_Data)\n",
    "print(df)\n"
   ]
  },
  {
   "cell_type": "markdown",
   "id": "02cd51f8",
   "metadata": {},
   "source": [
    "# 3"
   ]
  },
  {
   "cell_type": "code",
   "execution_count": 14,
   "id": "9b236ea7",
   "metadata": {},
   "outputs": [
    {
     "name": "stdout",
     "output_type": "stream",
     "text": [
      "<function long_words at 0x0000022853287130>\n"
     ]
    }
   ],
   "source": [
    "import re\n",
    "input_text='National flag is tricolor and nice.'\n",
    "def find_long_words(text):\n",
    "    \n",
    "    pattern=re.compile(r'\\b\\w{4,}\\b')\n",
    "    \n",
    "    long_word=re.findall(pattern,input_text)\n",
    "    \n",
    "    return long_words\n",
    "\n",
    "words=find_long_words(input_text)\n",
    "\n",
    "print(words)    \n"
   ]
  },
  {
   "cell_type": "code",
   "execution_count": 15,
   "id": "746a94da",
   "metadata": {},
   "outputs": [
    {
     "name": "stdout",
     "output_type": "stream",
     "text": [
      "['Ram', 'and', 'Meena', 'are', 'going', 'for', 'trip']\n"
     ]
    }
   ],
   "source": [
    "#QUESTION 4\n",
    "import re\n",
    "\n",
    "def find_words(text):\n",
    "    pattern = re.compile(r'\\b\\w{3,5}\\b')\n",
    "    words = re.findall(pattern, text)\n",
    "    return words\n",
    "\n",
    "sample_text = \"Ram and Meena are going for a trip.\"\n",
    "words = find_words(sample_text)\n",
    "print(words)"
   ]
  },
  {
   "cell_type": "code",
   "execution_count": null,
   "id": "c6d3b933",
   "metadata": {},
   "outputs": [],
   "source": [
    "#question 5"
   ]
  },
  {
   "cell_type": "code",
   "execution_count": 16,
   "id": "7d6cf074",
   "metadata": {},
   "outputs": [
    {
     "name": "stdout",
     "output_type": "stream",
     "text": [
      "example \n",
      "hr@fliprobo \n",
      "github \n",
      "Hello \n",
      "Data \n"
     ]
    }
   ],
   "source": [
    "def remove_parentheses(strings):\n",
    "    pattern = re.compile(r'\\([^)]*\\)')\n",
    "    cleaned_strings = [re.sub(pattern, '', string)for string in strings]\n",
    "    return cleaned_strings\n",
    "\n",
    "sample_strings = [\"example (.com)\", \"hr@fliprobo (.com)\", \"github (.com)\", \"Hello (Data Science World)\", \"Data (Scientist)\"]\n",
    "cleaned_strings = remove_parentheses(sample_strings)\n",
    "for string in cleaned_strings:\n",
    "    print(string)"
   ]
  },
  {
   "cell_type": "code",
   "execution_count": 3,
   "id": "e0dfd879",
   "metadata": {},
   "outputs": [
    {
     "ename": "NameError",
     "evalue": "name 'remove_content_inside_parentheses' is not defined",
     "output_type": "error",
     "traceback": [
      "\u001b[1;31m---------------------------------------------------------------------------\u001b[0m",
      "\u001b[1;31mNameError\u001b[0m                                 Traceback (most recent call last)",
      "Cell \u001b[1;32mIn[3], line 9\u001b[0m\n\u001b[0;32m      6\u001b[0m \u001b[38;5;28;01mdef\u001b[39;00m \u001b[38;5;21mremove_content_inside_parenthesis\u001b[39m(text):\n\u001b[0;32m      7\u001b[0m     \u001b[38;5;28;01mreturn\u001b[39;00m re\u001b[38;5;241m.\u001b[39msub(\u001b[38;5;124mr\u001b[39m\u001b[38;5;124m'\u001b[39m\u001b[38;5;124m\\\u001b[39m\u001b[38;5;124m([^()]*\u001b[39m\u001b[38;5;124m\\\u001b[39m\u001b[38;5;124m)\u001b[39m\u001b[38;5;124m'\u001b[39m,\u001b[38;5;124m'\u001b[39m\u001b[38;5;124m'\u001b[39m,text)\n\u001b[1;32m----> 9\u001b[0m modified_data \u001b[38;5;241m=\u001b[39m [remove_content_inside_parentheses(item) \u001b[38;5;28;01mfor\u001b[39;00m item \u001b[38;5;129;01min\u001b[39;00m data]\n\u001b[0;32m     11\u001b[0m \u001b[38;5;66;03m# Print the modified data\u001b[39;00m\n\u001b[0;32m     12\u001b[0m \u001b[38;5;28;01mfor\u001b[39;00m modified_item \u001b[38;5;129;01min\u001b[39;00m modified_data:\n",
      "Cell \u001b[1;32mIn[3], line 9\u001b[0m, in \u001b[0;36m<listcomp>\u001b[1;34m(.0)\u001b[0m\n\u001b[0;32m      6\u001b[0m \u001b[38;5;28;01mdef\u001b[39;00m \u001b[38;5;21mremove_content_inside_parenthesis\u001b[39m(text):\n\u001b[0;32m      7\u001b[0m     \u001b[38;5;28;01mreturn\u001b[39;00m re\u001b[38;5;241m.\u001b[39msub(\u001b[38;5;124mr\u001b[39m\u001b[38;5;124m'\u001b[39m\u001b[38;5;124m\\\u001b[39m\u001b[38;5;124m([^()]*\u001b[39m\u001b[38;5;124m\\\u001b[39m\u001b[38;5;124m)\u001b[39m\u001b[38;5;124m'\u001b[39m,\u001b[38;5;124m'\u001b[39m\u001b[38;5;124m'\u001b[39m,text)\n\u001b[1;32m----> 9\u001b[0m modified_data \u001b[38;5;241m=\u001b[39m [\u001b[43mremove_content_inside_parentheses\u001b[49m(item) \u001b[38;5;28;01mfor\u001b[39;00m item \u001b[38;5;129;01min\u001b[39;00m data]\n\u001b[0;32m     11\u001b[0m \u001b[38;5;66;03m# Print the modified data\u001b[39;00m\n\u001b[0;32m     12\u001b[0m \u001b[38;5;28;01mfor\u001b[39;00m modified_item \u001b[38;5;129;01min\u001b[39;00m modified_data:\n",
      "\u001b[1;31mNameError\u001b[0m: name 'remove_content_inside_parentheses' is not defined"
     ]
    }
   ],
   "source": [
    "#6 question\n",
    "import re\n",
    "\n",
    "data=[ \"example (.com)\",\"hr@fliprobo (.com)\", \"github (.com)\",\n",
    "    \"Hello (Data Science World)\", \"Data (Scientist)\"]\n",
    "def remove_content_inside_parenthesis(text):\n",
    "    return re.sub(r'\\([^()]*\\)','',text)\n",
    "\n",
    "modified_data = [remove_content_inside_parentheses(item) for item in data]\n",
    "\n",
    "# Print the modified data\n",
    "for modified_item in modified_data:\n",
    "    print(modified_item)"
   ]
  },
  {
   "cell_type": "code",
   "execution_count": 21,
   "id": "f385d484",
   "metadata": {},
   "outputs": [],
   "source": [
    "#question 7"
   ]
  },
  {
   "cell_type": "code",
   "execution_count": 6,
   "id": "572d6257",
   "metadata": {},
   "outputs": [
    {
     "name": "stdout",
     "output_type": "stream",
     "text": [
      "['Importance', 'Of', 'Regular', 'Expression', 'In', 'Python']\n"
     ]
    }
   ],
   "source": [
    "sample_text=\"ImportanceOfRegularExpressionInPython\"\n",
    "pattern=re.compile(r'[A-Z][a-z]*')\n",
    "result=pattern.findall(sample_text)\n",
    "print(result)"
   ]
  },
  {
   "cell_type": "code",
   "execution_count": 5,
   "id": "81b83e95",
   "metadata": {},
   "outputs": [],
   "source": [
    "#question 8"
   ]
  },
  {
   "cell_type": "code",
   "execution_count": 7,
   "id": "a9762524",
   "metadata": {},
   "outputs": [
    {
     "name": "stdout",
     "output_type": "stream",
     "text": [
      "RegularExpression 1IsAn 2ImportantTopic 3InPython\n"
     ]
    }
   ],
   "source": [
    "import re\n",
    "text=\"RegularExpression1IsAn2ImportantTopic3InPython\"\n",
    "def insert_spaces(text):\n",
    "    pattern=re.compile(r'(?<=[a-zA-Z])(?=\\d)')\n",
    "    new_text=re.sub(pattern,' ',text)\n",
    "    return  new_text\n",
    "result=insert_spaces(text)\n",
    "print(result)\n"
   ]
  },
  {
   "cell_type": "code",
   "execution_count": 8,
   "id": "a637c20e",
   "metadata": {},
   "outputs": [],
   "source": [
    "#question 9"
   ]
  },
  {
   "cell_type": "code",
   "execution_count": 5,
   "id": "26d0a37a",
   "metadata": {},
   "outputs": [
    {
     "name": "stdout",
     "output_type": "stream",
     "text": [
      "Regular Expression 1 Is An 2 Important Topic 3 In Python\n"
     ]
    }
   ],
   "source": [
    "import re\n",
    "sample_text = \"RegularExpression1IsAn2ImportantTopic3InPython\"\n",
    "\n",
    "def insert_spaces(text):\n",
    "    pattern = r'(?<=[a-z])(?=[A-Z0-9])|(?<=[0-9])(?=[A-Za-z])'\n",
    "    modified_text = re.sub(pattern, ' ', text)\n",
    "    return modified_text\n",
    "\n",
    "\n",
    "output = insert_spaces(sample_text)\n",
    "print(output)"
   ]
  },
  {
   "cell_type": "code",
   "execution_count": 3,
   "id": "04837933",
   "metadata": {},
   "outputs": [],
   "source": [
    "#question 11"
   ]
  },
  {
   "cell_type": "code",
   "execution_count": 4,
   "id": "7037ecd9",
   "metadata": {},
   "outputs": [
    {
     "name": "stdout",
     "output_type": "stream",
     "text": [
      "The string matches the pattern.\n",
      "The string does not match the pattern.\n"
     ]
    }
   ],
   "source": [
    "import re\n",
    "\n",
    "def match_string(string):\n",
    "    pattern = r'^[a-zA-Z0-9_]+$'\n",
    "    if re.match(pattern, string):\n",
    "        print(\"The string matches the pattern.\")\n",
    "    else:\n",
    "        print(\"The string does not match the pattern.\")\n",
    "\n",
    "# Test the program\n",
    "string1 = \"Hello_World123\"\n",
    "match_string(string1)  # Output: The string matches the pattern.\n",
    "\n",
    "string2 = \"Hello-World\"\n",
    "match_string(string2)"
   ]
  },
  {
   "cell_type": "code",
   "execution_count": 10,
   "id": "e280b7ef",
   "metadata": {},
   "outputs": [
    {
     "name": "stdout",
     "output_type": "stream",
     "text": [
      "The string '123abc' starts with the number 123.\n",
      "The string 'abc123' does not start with the number 123.\n"
     ]
    }
   ],
   "source": [
    "# question 12\n",
    "string1 = \"123abc\"\n",
    "starts_with_number(string1,123)\n",
    "\n",
    "string2 = \"abc123\"  \n",
    "starts_with_number(string2,123)\n",
    "\n",
    "def starts_with_number(string, number):\n",
    "    if string.startswith(str(number)):\n",
    "        print(f\"The string '{string}' starts with the number {number}.\")\n",
    "    else:\n",
    "        print(f\"The string '{string}' does not start with the number {number}.\")\n",
    "\n",
    "\n",
    "\n",
    "\n"
   ]
  },
  {
   "cell_type": "code",
   "execution_count": 12,
   "id": "1c80088a",
   "metadata": {},
   "outputs": [
    {
     "name": "stdout",
     "output_type": "stream",
     "text": [
      "315.9.83.215\n"
     ]
    }
   ],
   "source": [
    "#question 13\n",
    "\n",
    "import re\n",
    "ip_address = \"315.09.083.215\"\n",
    "\n",
    "def remove_leading_zeros(ip_address):\n",
    "    pattern = r'\\b0+(\\d)'\n",
    "    modified_ip = re.sub(pattern, r'\\1', ip_address)\n",
    "    return modified_ip\n",
    "\n",
    "output = remove_leading_zeros(ip_address)\n",
    "print(output)"
   ]
  },
  {
   "cell_type": "code",
   "execution_count": 26,
   "id": "73aa37a3",
   "metadata": {},
   "outputs": [
    {
     "name": "stdout",
     "output_type": "stream",
     "text": [
      "['August']\n"
     ]
    }
   ],
   "source": [
    "#Question 14- \n",
    "\n",
    "\n",
    "import re\n",
    "\n",
    "\n",
    "text = \"On August 15th 1947 that India was declared independent from British colonialism, and the reins of control were handed over to the leaders of the Country.\"\n",
    "\n",
    "pattern = r\"\\b([A-Z][a-z]+) \\d{1,2}(?:st|nd|rd|th)? \\d{4}\\b\"\n",
    "\n",
    "matches = re.findall(pattern, text)\n",
    "print(matches)\n"
   ]
  },
  {
   "cell_type": "code",
   "execution_count": 14,
   "id": "f59fd86e",
   "metadata": {},
   "outputs": [
    {
     "name": "stdout",
     "output_type": "stream",
     "text": [
      "['fox', 'dog']\n"
     ]
    }
   ],
   "source": [
    "#question 15\n",
    "sample_text = \"The quick brown fox jumps over the lazy dog.\"\n",
    "searched_words = ['fox', 'dog', 'horse']\n",
    "found_words = []\n",
    "def search_strings(text, searched_words):\n",
    "    \n",
    "    for word in searched_words:\n",
    "        if word in text:\n",
    "            found_words.append(word)\n",
    "    return found_words\n",
    "\n",
    "found_words = search_strings(sample_text, searched_words)\n",
    "print(found_words)\n"
   ]
  },
  {
   "cell_type": "code",
   "execution_count": 16,
   "id": "012f95af",
   "metadata": {},
   "outputs": [
    {
     "name": "stdout",
     "output_type": "stream",
     "text": [
      "Found \"fox\" in \"The quick brown fox jumps over the lazy dog.\" from 16 to 19\n"
     ]
    }
   ],
   "source": [
    "#question 16\n",
    "import re\n",
    "sample_text = 'The quick brown fox jumps over the lazy dog.'\n",
    "searched_word = 'fox'\n",
    "search_and_locate_string(sample_text, searched_word)\n",
    "\n",
    "def search_and_locate_string(text, pattern):\n",
    "    match = re.search(pattern, text)\n",
    "    if match:\n",
    "        start = match.start()\n",
    "        end = match.end()\n",
    "        print(f'Found \"{pattern}\" in \"{text}\" from {start} to {end}')\n",
    "    else:\n",
    "        print(f'\"{pattern}\" not found in \"{text}\"')\n",
    "\n",
    "\n"
   ]
  },
  {
   "cell_type": "code",
   "execution_count": 18,
   "id": "f335dedf",
   "metadata": {},
   "outputs": [
    {
     "name": "stdout",
     "output_type": "stream",
     "text": [
      "['exercises', 'exercises', 'exercises']\n"
     ]
    }
   ],
   "source": [
    "#question 17\n",
    "sample_text='Python exercises,PHP exercises,C# exercises'\n",
    "pattern='exercises'\n",
    "\n",
    "def find_substrings(text,pattern):\n",
    "    substrings=re.findall(pattern,text)\n",
    "    return substrings\n",
    "\n",
    "substrings=find_substrings(sample_text,pattern)\n",
    "print(substrings)"
   ]
  },
  {
   "cell_type": "code",
   "execution_count": 23,
   "id": "efb61cd2",
   "metadata": {},
   "outputs": [
    {
     "name": "stdout",
     "output_type": "stream",
     "text": [
      "Found \"exercises\" at 7:16\n",
      "Found \"exercises\" at 21:30\n",
      "Found \"exercises\" at 34:43\n"
     ]
    }
   ],
   "source": [
    "#question 18\n",
    "import re\n",
    "sample_text='Python exercises,PHP exercises,C# exercises'\n",
    "\n",
    "def find_occurrences(text, pattern):\n",
    "    occurrences = []\n",
    "    for match in re.finditer(pattern, text):\n",
    "        start = match.start()\n",
    "        end = match.end()\n",
    "        occurrences.append((text[start:end], start, end))\n",
    "    return occurrences\n",
    "\n",
    "\n",
    "pattern = 'exercises'\n",
    "\n",
    "occurrences = find_occurrences(sample_text, pattern)\n",
    "for occurrence in occurrences:\n",
    "    substring, start, end = occurrence\n",
    "    print(f'Found \"{substring}\" at {start}:{end}')\n",
    "\n",
    "\n",
    "\n",
    "        "
   ]
  },
  {
   "cell_type": "code",
   "execution_count": 24,
   "id": "f0caa913",
   "metadata": {},
   "outputs": [
    {
     "name": "stdout",
     "output_type": "stream",
     "text": [
      "31-01-2024\n"
     ]
    }
   ],
   "source": [
    "# question 19\n",
    "date='2024-01-31'\n",
    "\n",
    "def convert_date_format(date):\n",
    "    parts=date.split('-')\n",
    "    new_date=f\"{parts[2]}-{parts[1]}-{parts[0]}\"\n",
    "    return new_date\n",
    "\n",
    "new_date=convert_date_format(date)\n",
    "print(new_date)"
   ]
  },
  {
   "cell_type": "code",
   "execution_count": 27,
   "id": "6dc6f001",
   "metadata": {},
   "outputs": [
    {
     "name": "stdout",
     "output_type": "stream",
     "text": [
      "['01.12', '145.8', '3.01', '27.25', '0.25']\n"
     ]
    }
   ],
   "source": [
    "#question 20\n",
    "import re\n",
    "sample_text = \"01.12 0132.123 2.31875 145.8 3.01 27.25 0.25\"\n",
    "\n",
    "def find_decimal_numbers(text):\n",
    "    pattern = re.compile(r'\\b\\d+\\.\\d{1,2}\\b')\n",
    "    decimal_numbers = pattern.findall(text)\n",
    "    return decimal_numbers\n",
    "\n",
    "\n",
    "\n",
    "decimal_numbers = find_decimal_numbers(sample_text)\n",
    "print(decimal_numbers)\n"
   ]
  },
  {
   "cell_type": "code",
   "execution_count": 28,
   "id": "d2986ff8",
   "metadata": {},
   "outputs": [
    {
     "name": "stdout",
     "output_type": "stream",
     "text": [
      "Number: 01, Position: 0\n",
      "Number: 12, Position: 3\n",
      "Number: 0132, Position: 6\n",
      "Number: 123, Position: 11\n",
      "Number: 2, Position: 15\n",
      "Number: 31875, Position: 17\n",
      "Number: 145, Position: 23\n",
      "Number: 8, Position: 27\n",
      "Number: 3, Position: 29\n",
      "Number: 01, Position: 31\n",
      "Number: 27, Position: 34\n",
      "Number: 25, Position: 37\n",
      "Number: 0, Position: 40\n",
      "Number: 25, Position: 42\n"
     ]
    }
   ],
   "source": [
    "#question 21\n",
    "import re\n",
    "sample_text = \"01.12 0132.123 2.31875 145.8 3.01 27.25 0.25\"\n",
    "\n",
    "def find_numbers_with_positions(text):\n",
    "    pattern = re.compile(r'\\b\\d+\\b')\n",
    "    numbers_with_positions = []\n",
    "    for match in pattern.finditer(text):\n",
    "        number = match.group()\n",
    "        position = match.start()\n",
    "        numbers_with_positions.append((number, position))\n",
    "    return numbers_with_positions\n",
    "\n",
    "\n",
    "numbers_with_positions = find_numbers_with_positions(sample_text)\n",
    "for number, position in numbers_with_positions:\n",
    "    print(f'Number: {number}, Position: {position}')"
   ]
  },
  {
   "cell_type": "code",
   "execution_count": 30,
   "id": "6ea514c6",
   "metadata": {},
   "outputs": [
    {
     "name": "stdout",
     "output_type": "stream",
     "text": [
      "The maximum numeric value in the string is: 861\n"
     ]
    }
   ],
   "source": [
    "#question 22\n",
    "import re\n",
    "\n",
    "def extract_maximum_numeric_value(string):\n",
    "    numbers = re.findall(r'\\d+', string)\n",
    "    if numbers:\n",
    "        max_number = max(map(int, numbers))\n",
    "        return max_number\n",
    "    else:\n",
    "        return None\n",
    "\n",
    "# Test the program\n",
    "sample_string = \"200kl861hgfc234ye\"\n",
    "max_number = extract_maximum_numeric_value(sample_string)\n",
    "print(f\"The maximum numeric value in the string is: {max_number}\")"
   ]
  },
  {
   "cell_type": "code",
   "execution_count": 34,
   "id": "7a146b2c",
   "metadata": {},
   "outputs": [
    {
     "name": "stdout",
     "output_type": "stream",
     "text": [
      " Regular Expression Is An Important Topic In Python\n"
     ]
    }
   ],
   "source": [
    "#question 23\n",
    "\n",
    "import re\n",
    "sample_text = \"RegularExpressionIsAnImportantTopicInPython\"\n",
    "\n",
    "def insert_spaces(string):\n",
    "    modified_string = re.sub(r'(?=[A-Z])', ' ', string)\n",
    "    return modified_string\n",
    "\n",
    "\n",
    "modified_text = insert_spaces(sample_text)\n",
    "print(modified_text)"
   ]
  },
  {
   "cell_type": "code",
   "execution_count": 35,
   "id": "03dd55b6",
   "metadata": {},
   "outputs": [
    {
     "name": "stdout",
     "output_type": "stream",
     "text": [
      "['Regular', 'Expression', 'Is', 'An', 'Important', 'Topic', 'In', 'Python']\n"
     ]
    }
   ],
   "source": [
    "# question 24\n",
    "import re\n",
    "sample_string = \"RegularExpressionIsAnImportantTopicInPython\"\n",
    "\n",
    "def find_sequences(string):\n",
    "    sequences = re.findall(r'[A-Z][a-z]+', string)\n",
    "    return sequences\n",
    "\n",
    "\n",
    "sequences = find_sequences(sample_string)\n",
    "print(sequences)"
   ]
  },
  {
   "cell_type": "code",
   "execution_count": 36,
   "id": "f8488f71",
   "metadata": {},
   "outputs": [
    {
     "name": "stdout",
     "output_type": "stream",
     "text": [
      "Hello hello world\n"
     ]
    }
   ],
   "source": [
    "#question 25\n",
    "import re\n",
    "\n",
    "def remove_duplicate_words(sentence):\n",
    "    modified_sentence = re.sub(r'\\b(\\w+)( \\1\\b)+', r'\\1', sentence)\n",
    "    return modified_sentence\n",
    "\n",
    "# Test the program\n",
    "sample_text = \"Hello hello world world\"\n",
    "modified_text = remove_duplicate_words(sample_text)\n",
    "print(modified_text)"
   ]
  },
  {
   "cell_type": "code",
   "execution_count": null,
   "id": "09d3689d",
   "metadata": {},
   "outputs": [],
   "source": []
  },
  {
   "cell_type": "code",
   "execution_count": null,
   "id": "70b165ed",
   "metadata": {},
   "outputs": [],
   "source": [
    "#question 26"
   ]
  },
  {
   "cell_type": "code",
   "execution_count": 11,
   "id": "7765e0e8",
   "metadata": {},
   "outputs": [
    {
     "name": "stdout",
     "output_type": "stream",
     "text": [
      "Accepted\n",
      "Not Accepted\n"
     ]
    }
   ],
   "source": [
    "import re\n",
    "\n",
    "def check_string(string):\n",
    "    pattern = r'^.*[a-zA-Z0-9]$'\n",
    "    if re.match(pattern, string):\n",
    "        print(\"Accepted\")\n",
    "    else:\n",
    "        print(\"Not Accepted\")\n",
    "        \n",
    "check_string(\"manvirai326\")  \n",
    "check_string(\"manvirai@\")        \n"
   ]
  },
  {
   "cell_type": "code",
   "execution_count": 13,
   "id": "ea4345a1",
   "metadata": {},
   "outputs": [
    {
     "name": "stdout",
     "output_type": "stream",
     "text": [
      "['#Doltiwal', '#xyzabc', '#Demonetization']\n"
     ]
    }
   ],
   "source": [
    "#question 27\n",
    "\n",
    "import re\n",
    "\n",
    "def extract_hashtags(text):\n",
    "    hashtags = re.findall(r'#\\w+', text)\n",
    "    return hashtags\n",
    "\n",
    "# Test the program\n",
    "text = 'RT @kapil_kausik: #Doltiwal I mean #xyzabc is \"hurt\" by #Demonetization as the same has rendered USELESS <ed><U+00A0><U+00BD><ed><U+00B1><U+0089> \"acquired funds\" No wo\"\"\"\"'\n",
    "hashtags = extract_hashtags(text)\n",
    "print(hashtags)"
   ]
  },
  {
   "cell_type": "code",
   "execution_count": 20,
   "id": "8c0869df",
   "metadata": {},
   "outputs": [
    {
     "name": "stdout",
     "output_type": "stream",
     "text": [
      "@Jags123456 Bharat band on 28??<ed><ed>Those who are protesting #demonetization are all different party leaders\n"
     ]
    }
   ],
   "source": [
    "#question 28\n",
    "import re\n",
    "\n",
    "\n",
    "sample_text = \"@Jags123456 Bharat band on 28??<ed><U+00A0><U+00BD><ed><U+00B8><U+0082>Those who are protesting #demonetization are all different party leaders\"\n",
    "\n",
    "modified_text = re.sub(r'<U\\+\\w+>', '', sample_text)\n",
    "\n",
    "\n",
    "print(modified_text)"
   ]
  },
  {
   "cell_type": "code",
   "execution_count": 29,
   "id": "6ad70b33",
   "metadata": {},
   "outputs": [],
   "source": [
    "#question29\n",
    "import re\n",
    "\n",
    "\n",
    "\n",
    "\n",
    "\n"
   ]
  },
  {
   "cell_type": "code",
   "execution_count": 24,
   "id": "8e7753ed",
   "metadata": {},
   "outputs": [
    {
     "name": "stdout",
     "output_type": "stream",
     "text": [
      " following example creates  ArrayList  a capacity   elements. 4 elements   added   ArrayList   ArrayList  trimmed accordingly.\n"
     ]
    }
   ],
   "source": [
    "#question 30\n",
    "\n",
    "import re\n",
    "\n",
    "def remove_words(text):\n",
    "    pattern = re.compile(r'\\b\\w{2,4}\\b')\n",
    "    modified_text = pattern.sub('', text)\n",
    "    return modified_text\n",
    "\n",
    "\n",
    "text = \"The following example creates an ArrayList with a capacity of 50 elements. 4 elements are then added to the ArrayList and the ArrayList is trimmed accordingly.\"\n",
    "modified_text = remove_words(text)\n",
    "print(modified_text)"
   ]
  },
  {
   "cell_type": "code",
   "execution_count": null,
   "id": "cbcf4d69",
   "metadata": {},
   "outputs": [],
   "source": []
  }
 ],
 "metadata": {
  "kernelspec": {
   "display_name": "Python 3 (ipykernel)",
   "language": "python",
   "name": "python3"
  },
  "language_info": {
   "codemirror_mode": {
    "name": "ipython",
    "version": 3
   },
   "file_extension": ".py",
   "mimetype": "text/x-python",
   "name": "python",
   "nbconvert_exporter": "python",
   "pygments_lexer": "ipython3",
   "version": "3.10.9"
  }
 },
 "nbformat": 4,
 "nbformat_minor": 5
}
